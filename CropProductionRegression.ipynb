{
 "cells": [
  {
   "cell_type": "code",
   "execution_count": 1,
   "id": "a0bcfadf",
   "metadata": {},
   "outputs": [],
   "source": [
    "import pandas as pd\n",
    "import matplotlib.pyplot as plt\n",
    "import seaborn as sns\n",
    "from sklearn.model_selection import train_test_split\n",
    "from sklearn.linear_model import LinearRegression\n",
    "from sklearn.ensemble import RandomForestRegressor\n",
    "from sklearn.metrics import mean_squared_error, mean_absolute_error, r2_score\n",
    "import joblib"
   ]
  },
  {
   "cell_type": "code",
   "execution_count": 2,
   "id": "ac37ff00",
   "metadata": {},
   "outputs": [
    {
     "name": "stdout",
     "output_type": "stream",
     "text": [
      "(224647, 15)\n"
     ]
    },
    {
     "data": {
      "text/html": [
       "<div>\n",
       "<style scoped>\n",
       "    .dataframe tbody tr th:only-of-type {\n",
       "        vertical-align: middle;\n",
       "    }\n",
       "\n",
       "    .dataframe tbody tr th {\n",
       "        vertical-align: top;\n",
       "    }\n",
       "\n",
       "    .dataframe thead th {\n",
       "        text-align: right;\n",
       "    }\n",
       "</style>\n",
       "<table border=\"1\" class=\"dataframe\">\n",
       "  <thead>\n",
       "    <tr style=\"text-align: right;\">\n",
       "      <th></th>\n",
       "      <th>Domain Code</th>\n",
       "      <th>Domain</th>\n",
       "      <th>Area Code (M49)</th>\n",
       "      <th>Area</th>\n",
       "      <th>Element Code</th>\n",
       "      <th>Element</th>\n",
       "      <th>Item Code (CPC)</th>\n",
       "      <th>Item</th>\n",
       "      <th>Year Code</th>\n",
       "      <th>Year</th>\n",
       "      <th>Unit</th>\n",
       "      <th>Value</th>\n",
       "      <th>Flag</th>\n",
       "      <th>Flag Description</th>\n",
       "      <th>Note</th>\n",
       "    </tr>\n",
       "  </thead>\n",
       "  <tbody>\n",
       "    <tr>\n",
       "      <th>0</th>\n",
       "      <td>QCL</td>\n",
       "      <td>Crops and livestock products</td>\n",
       "      <td>4</td>\n",
       "      <td>Afghanistan</td>\n",
       "      <td>5312</td>\n",
       "      <td>Area harvested</td>\n",
       "      <td>1371</td>\n",
       "      <td>Almonds, in shell</td>\n",
       "      <td>2019</td>\n",
       "      <td>2019</td>\n",
       "      <td>ha</td>\n",
       "      <td>29203.0</td>\n",
       "      <td>A</td>\n",
       "      <td>Official figure</td>\n",
       "      <td>NaN</td>\n",
       "    </tr>\n",
       "    <tr>\n",
       "      <th>1</th>\n",
       "      <td>QCL</td>\n",
       "      <td>Crops and livestock products</td>\n",
       "      <td>4</td>\n",
       "      <td>Afghanistan</td>\n",
       "      <td>5412</td>\n",
       "      <td>Yield</td>\n",
       "      <td>1371</td>\n",
       "      <td>Almonds, in shell</td>\n",
       "      <td>2019</td>\n",
       "      <td>2019</td>\n",
       "      <td>kg/ha</td>\n",
       "      <td>1308.3</td>\n",
       "      <td>A</td>\n",
       "      <td>Official figure</td>\n",
       "      <td>NaN</td>\n",
       "    </tr>\n",
       "    <tr>\n",
       "      <th>2</th>\n",
       "      <td>QCL</td>\n",
       "      <td>Crops and livestock products</td>\n",
       "      <td>4</td>\n",
       "      <td>Afghanistan</td>\n",
       "      <td>5510</td>\n",
       "      <td>Production</td>\n",
       "      <td>1371</td>\n",
       "      <td>Almonds, in shell</td>\n",
       "      <td>2019</td>\n",
       "      <td>2019</td>\n",
       "      <td>t</td>\n",
       "      <td>38205.0</td>\n",
       "      <td>A</td>\n",
       "      <td>Official figure</td>\n",
       "      <td>NaN</td>\n",
       "    </tr>\n",
       "    <tr>\n",
       "      <th>3</th>\n",
       "      <td>QCL</td>\n",
       "      <td>Crops and livestock products</td>\n",
       "      <td>4</td>\n",
       "      <td>Afghanistan</td>\n",
       "      <td>5312</td>\n",
       "      <td>Area harvested</td>\n",
       "      <td>1371</td>\n",
       "      <td>Almonds, in shell</td>\n",
       "      <td>2020</td>\n",
       "      <td>2020</td>\n",
       "      <td>ha</td>\n",
       "      <td>22134.0</td>\n",
       "      <td>A</td>\n",
       "      <td>Official figure</td>\n",
       "      <td>NaN</td>\n",
       "    </tr>\n",
       "    <tr>\n",
       "      <th>4</th>\n",
       "      <td>QCL</td>\n",
       "      <td>Crops and livestock products</td>\n",
       "      <td>4</td>\n",
       "      <td>Afghanistan</td>\n",
       "      <td>5412</td>\n",
       "      <td>Yield</td>\n",
       "      <td>1371</td>\n",
       "      <td>Almonds, in shell</td>\n",
       "      <td>2020</td>\n",
       "      <td>2020</td>\n",
       "      <td>kg/ha</td>\n",
       "      <td>1775.9</td>\n",
       "      <td>A</td>\n",
       "      <td>Official figure</td>\n",
       "      <td>NaN</td>\n",
       "    </tr>\n",
       "  </tbody>\n",
       "</table>\n",
       "</div>"
      ],
      "text/plain": [
       "  Domain Code                        Domain  Area Code (M49)         Area  \\\n",
       "0         QCL  Crops and livestock products                4  Afghanistan   \n",
       "1         QCL  Crops and livestock products                4  Afghanistan   \n",
       "2         QCL  Crops and livestock products                4  Afghanistan   \n",
       "3         QCL  Crops and livestock products                4  Afghanistan   \n",
       "4         QCL  Crops and livestock products                4  Afghanistan   \n",
       "\n",
       "   Element Code         Element Item Code (CPC)               Item  Year Code  \\\n",
       "0          5312  Area harvested            1371  Almonds, in shell       2019   \n",
       "1          5412           Yield            1371  Almonds, in shell       2019   \n",
       "2          5510      Production            1371  Almonds, in shell       2019   \n",
       "3          5312  Area harvested            1371  Almonds, in shell       2020   \n",
       "4          5412           Yield            1371  Almonds, in shell       2020   \n",
       "\n",
       "   Year   Unit    Value Flag Flag Description Note  \n",
       "0  2019     ha  29203.0    A  Official figure  NaN  \n",
       "1  2019  kg/ha   1308.3    A  Official figure  NaN  \n",
       "2  2019      t  38205.0    A  Official figure  NaN  \n",
       "3  2020     ha  22134.0    A  Official figure  NaN  \n",
       "4  2020  kg/ha   1775.9    A  Official figure  NaN  "
      ]
     },
     "execution_count": 2,
     "metadata": {},
     "output_type": "execute_result"
    }
   ],
   "source": [
    "df = pd.read_excel(\"FAOSTAT_data.xlsx\")\n",
    "print(df.shape)\n",
    "df.head()"
   ]
  },
  {
   "cell_type": "code",
   "execution_count": 3,
   "id": "90f53adb",
   "metadata": {},
   "outputs": [
    {
     "data": {
      "text/plain": [
       "Domain Code              0\n",
       "Domain                   0\n",
       "Area Code (M49)          0\n",
       "Area                     0\n",
       "Element Code             0\n",
       "Element                  0\n",
       "Item Code (CPC)          5\n",
       "Item                     0\n",
       "Year Code                0\n",
       "Year                     0\n",
       "Unit                     2\n",
       "Value                 6517\n",
       "Flag                     4\n",
       "Flag Description        13\n",
       "Note                219549\n",
       "dtype: int64"
      ]
     },
     "execution_count": 3,
     "metadata": {},
     "output_type": "execute_result"
    }
   ],
   "source": [
    "df.isnull().sum()"
   ]
  },
  {
   "cell_type": "code",
   "execution_count": 4,
   "id": "4938d48a",
   "metadata": {},
   "outputs": [],
   "source": [
    "# Since the null values for Value column account for less than 5% of the total data, we can drop them\n",
    "# Drop rows where 'Value' is missing \n",
    "df = df.dropna(subset=['Value'])\n",
    "\n",
    "# Drop unnecessary columns (metadata)\n",
    "df.drop(columns=['Domain Code', 'Domain', 'Area Code (M49)', 'Element Code', \n",
    "                 'Item Code (CPC)', 'Year Code', 'Flag', 'Flag Description', 'Note'], inplace=True)\n",
    "\n",
    "# Drop remaining very minor NaNs if needed\n",
    "df.dropna(inplace=True)\n"
   ]
  },
  {
   "cell_type": "code",
   "execution_count": 5,
   "id": "f08cb9c6",
   "metadata": {},
   "outputs": [
    {
     "name": "stdout",
     "output_type": "stream",
     "text": [
      "(218128, 6)\n",
      "          Area         Element               Item  Year   Unit    Value\n",
      "0  Afghanistan  Area harvested  Almonds, in shell  2019     ha  29203.0\n",
      "1  Afghanistan           Yield  Almonds, in shell  2019  kg/ha   1308.3\n",
      "2  Afghanistan      Production  Almonds, in shell  2019      t  38205.0\n",
      "3  Afghanistan  Area harvested  Almonds, in shell  2020     ha  22134.0\n",
      "4  Afghanistan           Yield  Almonds, in shell  2020  kg/ha   1775.9\n"
     ]
    }
   ],
   "source": [
    "print(df.shape)\n",
    "print(df.head())"
   ]
  },
  {
   "cell_type": "code",
   "execution_count": 6,
   "id": "27e93a64",
   "metadata": {},
   "outputs": [
    {
     "data": {
      "text/plain": [
       "<bound method NDFrame.head of Element         Area                    Item  Year  Area harvested  \\\n",
       "0        Afghanistan       Almonds, in shell  2019         29203.0   \n",
       "1        Afghanistan       Almonds, in shell  2020         22134.0   \n",
       "2        Afghanistan       Almonds, in shell  2021         36862.0   \n",
       "3        Afghanistan       Almonds, in shell  2022         36462.0   \n",
       "4        Afghanistan       Almonds, in shell  2023         37000.0   \n",
       "...              ...                     ...   ...             ...   \n",
       "82121       Zimbabwe   Whole milk, condensed  2022             NaN   \n",
       "82122       Zimbabwe  Whole milk, evaporated  2019             NaN   \n",
       "82123       Zimbabwe  Whole milk, evaporated  2020             NaN   \n",
       "82124       Zimbabwe  Whole milk, evaporated  2021             NaN   \n",
       "82125       Zimbabwe  Whole milk, evaporated  2022             NaN   \n",
       "\n",
       "Element  Production   Yield  \n",
       "0          38205.00  1308.3  \n",
       "1          39307.00  1775.9  \n",
       "2          64256.00  1743.2  \n",
       "3          63515.00  1742.0  \n",
       "4          67000.00  1810.8  \n",
       "...             ...     ...  \n",
       "82121        752.48     NaN  \n",
       "82122       5010.21     NaN  \n",
       "82123       4795.70     NaN  \n",
       "82124       4921.05     NaN  \n",
       "82125       4966.37     NaN  \n",
       "\n",
       "[82126 rows x 6 columns]>"
      ]
     },
     "execution_count": 6,
     "metadata": {},
     "output_type": "execute_result"
    }
   ],
   "source": [
    "#Filter only crop-related elements from elements table \n",
    "crop_elements = ['Area harvested', 'Yield', 'Production']\n",
    "df_crop = df[df['Element'].isin(crop_elements)].copy()\n",
    "\n",
    "#Pivot to reshape\n",
    "df_pivot = df_crop.pivot_table(\n",
    "    index=['Area', 'Item', 'Year'],\n",
    "    columns='Element',\n",
    "    values='Value'\n",
    ").reset_index()\n",
    "df_pivot.head"
   ]
  },
  {
   "cell_type": "code",
   "execution_count": 7,
   "id": "1d900a3a",
   "metadata": {},
   "outputs": [
    {
     "name": "stdout",
     "output_type": "stream",
     "text": [
      "          Area               Item  Year  Area_Harvested_ha  Production_ton  \\\n",
      "0  Afghanistan  Almonds, in shell  2019            29203.0         38205.0   \n",
      "1  Afghanistan  Almonds, in shell  2020            22134.0         39307.0   \n",
      "2  Afghanistan  Almonds, in shell  2021            36862.0         64256.0   \n",
      "3  Afghanistan  Almonds, in shell  2022            36462.0         63515.0   \n",
      "4  Afghanistan  Almonds, in shell  2023            37000.0         67000.0   \n",
      "\n",
      "   Yield_kg_ha  \n",
      "0       1308.3  \n",
      "1       1775.9  \n",
      "2       1743.2  \n",
      "3       1742.0  \n",
      "4       1810.8  \n"
     ]
    }
   ],
   "source": [
    "# Rename columns according to units in the Unit column\n",
    "df_pivot.columns.name = None\n",
    "df_pivot.rename(columns={\n",
    "    'Area harvested': 'Area_Harvested_ha',\n",
    "    'Yield': 'Yield_kg_ha',\n",
    "    'Production': 'Production_ton'\n",
    "}, inplace=True)\n",
    "\n",
    "\n",
    "print(df_pivot.head())\n",
    "df_pivot.to_csv(\"clean_crop_dataset.csv\", index=False)\n"
   ]
  },
  {
   "cell_type": "code",
   "execution_count": 8,
   "id": "bd928015",
   "metadata": {},
   "outputs": [
    {
     "name": "stdout",
     "output_type": "stream",
     "text": [
      "(82126, 6)\n",
      "               Year  Area_Harvested_ha  Production_ton    Yield_kg_ha\n",
      "count  82126.000000       4.790100e+04    8.194400e+04   50572.000000\n",
      "mean    2020.928281       1.712810e+05    9.179694e+05   12705.650799\n",
      "std        1.383827       1.429958e+06    1.054049e+07   26319.565219\n",
      "min     2019.000000       0.000000e+00    0.000000e+00       0.000000\n",
      "25%     2020.000000       2.900000e+02    8.094600e+02    1491.525000\n",
      "50%     2021.000000       3.005000e+03    1.071800e+04    5461.300000\n",
      "75%     2022.000000       2.326000e+04    9.881106e+04   14812.500000\n",
      "max     2023.000000       4.783200e+07    7.825858e+08  705196.700000\n"
     ]
    }
   ],
   "source": [
    "#EDA\n",
    "print(df_pivot.shape)\n",
    "print(df_pivot.describe())"
   ]
  },
  {
   "cell_type": "code",
   "execution_count": 9,
   "id": "e412102d",
   "metadata": {},
   "outputs": [
    {
     "name": "stdout",
     "output_type": "stream",
     "text": [
      "Area                     0\n",
      "Item                     0\n",
      "Year                     0\n",
      "Area_Harvested_ha    34225\n",
      "Production_ton         182\n",
      "Yield_kg_ha          31554\n",
      "dtype: int64\n"
     ]
    }
   ],
   "source": [
    "print(df_pivot.isnull().sum())"
   ]
  },
  {
   "cell_type": "code",
   "execution_count": 12,
   "id": "3c4b6b63",
   "metadata": {},
   "outputs": [
    {
     "name": "stderr",
     "output_type": "stream",
     "text": [
      "C:\\Users\\Chia\\AppData\\Local\\Temp\\ipykernel_18120\\814699002.py:2: FutureWarning: A value is trying to be set on a copy of a DataFrame or Series through chained assignment using an inplace method.\n",
      "The behavior will change in pandas 3.0. This inplace method will never work because the intermediate object on which we are setting values always behaves as a copy.\n",
      "\n",
      "For example, when doing 'df[col].method(value, inplace=True)', try using 'df.method({col: value}, inplace=True)' or df[col] = df[col].method(value) instead, to perform the operation inplace on the original object.\n",
      "\n",
      "\n",
      "  df_pivot['Area_Harvested_ha'].fillna(df_pivot['Area_Harvested_ha'].mean(),inplace=True)\n",
      "C:\\Users\\Chia\\AppData\\Local\\Temp\\ipykernel_18120\\814699002.py:3: FutureWarning: A value is trying to be set on a copy of a DataFrame or Series through chained assignment using an inplace method.\n",
      "The behavior will change in pandas 3.0. This inplace method will never work because the intermediate object on which we are setting values always behaves as a copy.\n",
      "\n",
      "For example, when doing 'df[col].method(value, inplace=True)', try using 'df.method({col: value}, inplace=True)' or df[col] = df[col].method(value) instead, to perform the operation inplace on the original object.\n",
      "\n",
      "\n",
      "  df_pivot['Yield_kg_ha'].fillna(df_pivot['Yield_kg_ha'].mean(), inplace=True)\n",
      "C:\\Users\\Chia\\AppData\\Local\\Temp\\ipykernel_18120\\814699002.py:4: FutureWarning: A value is trying to be set on a copy of a DataFrame or Series through chained assignment using an inplace method.\n",
      "The behavior will change in pandas 3.0. This inplace method will never work because the intermediate object on which we are setting values always behaves as a copy.\n",
      "\n",
      "For example, when doing 'df[col].method(value, inplace=True)', try using 'df.method({col: value}, inplace=True)' or df[col] = df[col].method(value) instead, to perform the operation inplace on the original object.\n",
      "\n",
      "\n",
      "  df_pivot['Production_ton'].fillna(df_pivot['Production_ton'].mean(), inplace=True)\n"
     ]
    },
    {
     "name": "stdout",
     "output_type": "stream",
     "text": [
      "Area                 0\n",
      "Item                 0\n",
      "Year                 0\n",
      "Area_Harvested_ha    0\n",
      "Production_ton       0\n",
      "Yield_kg_ha          0\n",
      "dtype: int64\n"
     ]
    }
   ],
   "source": [
    "#Imputing missing values with mean\n",
    "df_pivot['Area_Harvested_ha'].fillna(df_pivot['Area_Harvested_ha'].mean(),inplace=True)\n",
    "df_pivot['Yield_kg_ha'].fillna(df_pivot['Yield_kg_ha'].mean(), inplace=True)\n",
    "df_pivot['Production_ton'].fillna(df_pivot['Production_ton'].mean(), inplace=True)\n",
    "print(df_pivot.isnull().sum())\n",
    "# Save the cleaned dataset\n",
    "df_pivot.to_csv(\"clean_crop_dataset.csv\", index=False)"
   ]
  },
  {
   "cell_type": "code",
   "execution_count": 13,
   "id": "9f92e5f2",
   "metadata": {},
   "outputs": [
    {
     "name": "stdout",
     "output_type": "stream",
     "text": [
      "['Almonds, in shell'\n",
      " 'Anise, badian, coriander, cumin, caraway, fennel and juniper berries, raw'\n",
      " 'Apples' 'Apricots' 'Barley' 'Butter and ghee of sheep milk'\n",
      " 'Butter of cow milk' 'Buttermilk, dry' 'Cantaloupes and other melons'\n",
      " 'Cattle fat, unrendered' 'Cheese from milk of goats, fresh or processed'\n",
      " 'Cheese from milk of sheep, fresh or processed' 'Cotton lint, ginned'\n",
      " 'Cotton seed' 'Cottonseed oil'\n",
      " 'Edible offal of cattle, fresh, chilled or frozen'\n",
      " 'Edible offal of goat, fresh, chilled or frozen'\n",
      " 'Edible offal of sheep, fresh, chilled or frozen'\n",
      " 'Edible offals of camels and other camelids, fresh, chilled or frozen'\n",
      " 'Fat of camels' 'Figs' 'Game meat, fresh, chilled or frozen'\n",
      " 'Goat fat, unrendered' 'Grapes' 'Hen eggs in shell, fresh' 'Linseed'\n",
      " 'Maize (corn)' 'Meat of camels, fresh or chilled'\n",
      " 'Meat of cattle with the bone, fresh or chilled'\n",
      " 'Meat of chickens, fresh or chilled' 'Meat of goat, fresh or chilled'\n",
      " 'Meat of sheep, fresh or chilled' 'Millet' 'Molasses' 'Mustard seed'\n",
      " 'Natural honey' 'Oil of linseed' 'Oil of sesame seed' 'Olive oil'\n",
      " 'Olives' 'Onions and shallots, dry (excluding dehydrated)' 'Oranges'\n",
      " 'Other berries and fruits of the genus vaccinium n.e.c.'\n",
      " 'Other citrus fruit, n.e.c.' 'Other fruits, n.e.c.'\n",
      " 'Other nuts (excluding wild edible nuts and groundnuts), in shell, n.e.c.'\n",
      " 'Other pulses n.e.c.' 'Other stimulant, spice and aromatic crops, n.e.c.'\n",
      " 'Other stone fruits' 'Other vegetables, fresh n.e.c.'\n",
      " 'Peaches and nectarines' 'Pears' 'Pistachios, in shell' 'Plums and sloes'\n",
      " 'Potatoes' 'Raw cane or beet sugar (centrifugal only)'\n",
      " 'Raw hides and skins of cattle' 'Raw hides and skins of goats or kids'\n",
      " 'Raw hides and skins of sheep or lambs' 'Raw milk of camel'\n",
      " 'Raw milk of cattle' 'Raw milk of goats' 'Raw milk of sheep'\n",
      " 'Raw silk (not thrown)' 'Rice' 'Seed cotton, unginned' 'Sesame seed'\n",
      " 'Sheep fat, unrendered'\n",
      " 'Shorn wool, greasy, including fleece-washed shorn wool'\n",
      " 'Silk-worm cocoons suitable for reeling' 'Skim milk of cows' 'Soya beans'\n",
      " 'Sugar beet' 'Sugar cane' 'Sunflower seed' 'Sunflower-seed oil, crude'\n",
      " 'Walnuts, in shell' 'Watermelons' 'Wheat' 'Beans, dry'\n",
      " 'Beer of barley, malted' 'Broad beans and horse beans, dry'\n",
      " 'Broad beans and horse beans, green' 'Cabbages' 'Carrots and turnips'\n",
      " 'Cauliflowers and broccoli' 'Cheese from whole cow milk' 'Cherries'\n",
      " 'Chestnuts, in shell'\n",
      " 'Chillies and peppers, green (Capsicum spp. and Pimenta spp.)'\n",
      " 'Cucumbers and gherkins' 'Dates'\n",
      " 'Edible offal of pigs, fresh, chilled or frozen' 'Eggplants (aubergines)'\n",
      " 'Eggs from other birds in shell, fresh, n.e.c.' 'Fat of pigs'\n",
      " 'Green garlic'\n",
      " 'Green tea (not fermented), black tea (fermented) and partly fermented tea, in immediate packings of a content not exceeding 3 kg'\n",
      " 'Groundnut oil' 'Hop cones' 'Leeks and other alliaceous vegetables'\n",
      " 'Lemons and limes' 'Lettuce and chicory'\n",
      " 'Meat of pig with the bone, fresh or chilled'\n",
      " 'Meat of turkeys, fresh or chilled' 'Mushrooms and truffles' 'Oats'\n",
      " 'Okra' 'Onions and shallots, green' 'Other beans, green'\n",
      " 'Other meat of mammals, fresh or chilled' 'Peas, green'\n",
      " 'Pumpkins, squash and gourds' 'Quinces' 'Raw milk of buffalo' 'Rye'\n",
      " 'Sour cherries' 'Soya bean oil' 'Spinach' 'Strawberries'\n",
      " 'Tangerines, mandarins, clementines' 'Tomatoes' 'Unmanufactured tobacco'\n",
      " 'Vetches' 'Wine' 'Artichokes' 'Bananas' 'Cheese from skimmed cow milk'\n",
      " 'Chick peas, dry'\n",
      " 'Chillies and peppers, dry (Capsicum spp., Pimenta spp.), raw'\n",
      " 'Edible offals of horses and other equines,  fresh, chilled or frozen'\n",
      " 'Groundnuts, excluding shelled' 'Horse meat, fresh or chilled'\n",
      " 'Lentils, dry' 'Locust beans (carobs)' 'Margarine and shortening'\n",
      " 'Meat of rabbits and hares, fresh or chilled' 'Peas, dry'\n",
      " 'Pomelos and grapefruits' 'Rape or colza seed'\n",
      " 'Rapeseed or canola oil, crude' 'Safflower-seed oil, crude' 'Sorghum'\n",
      " 'Triticale' 'Avocados' 'Beeswax' 'Cashew nuts, in shell' 'Cassava, fresh'\n",
      " 'Castor oil seeds' 'Cocoa beans' 'Coffee, green'\n",
      " 'Kenaf, and other textile bast fibres, raw or retted'\n",
      " 'Mangoes, guavas and mangosteens' 'Oil of palm kernel' 'Oil palm fruit'\n",
      " 'Palm kernels' 'Palm oil' 'Pig fat, rendered' 'Pineapples' 'Sisal, raw'\n",
      " 'Sweet potatoes' 'Green corn (maize)' 'Other tropical fruits, n.e.c.'\n",
      " 'Taro' 'Yams' 'Asparagus' 'Canary seed' 'Cereals n.e.c.' 'Cream, fresh'\n",
      " 'Flax, raw or retted' 'Ghee from cow milk' 'Lupins' 'Mat� leaves'\n",
      " 'Meat of asses, fresh or chilled' 'Meat of ducks, fresh or chilled'\n",
      " 'Meat of geese, fresh or chilled' 'Meat of mules, fresh or chilled'\n",
      " 'Oil of maize' 'Other fibre crops, raw, n.e.c.' 'Other oil seeds, n.e.c.'\n",
      " 'Papayas' 'Peppermint, spearmint' 'Safflower seed'\n",
      " 'Skim milk and whey powder' 'String beans' 'Tallow' 'Tea leaves'\n",
      " 'Tung nuts' 'Whey, dry' 'Whole milk powder' 'Whole milk, condensed'\n",
      " 'Whole milk, evaporated' 'Hazelnuts, in shell' 'Blueberries' 'Currants'\n",
      " 'Ginger, raw' 'Hempseed' 'Kiwi fruit' 'Persimmons' 'Raspberries'\n",
      " 'True hemp, raw or retted'\n",
      " 'Cheese from milk of buffalo, fresh or processed' 'Mixed grain'\n",
      " 'Skim milk, condensed' 'Whey, condensed' 'Yoghurt' 'Cranberries'\n",
      " 'Coconuts, in shell' 'Pigeon peas, dry' 'Plantains and cooking bananas'\n",
      " 'Coconut oil' 'Areca nuts' 'Buffalo fat, unrendered'\n",
      " 'Butter of buffalo milk' 'Coir, raw'\n",
      " 'Edible offal of buffalo, fresh, chilled or frozen'\n",
      " 'Ghee from buffalo milk' 'Jute, raw or retted'\n",
      " 'Meat of buffalo, fresh or chilled' 'Natural rubber in primary forms'\n",
      " 'Other sugar crops n.e.c.' 'Raw hides and skins of buffaloes' 'Buckwheat'\n",
      " 'Other pome fruits'\n",
      " 'Edible roots and tubers with high starch or inulin content, n.e.c., fresh'\n",
      " 'Yautia' 'Fonio' 'Karite nuts (sheanuts)' 'Kola nuts'\n",
      " 'Pepper (Piper spp.), raw' 'Nutmeg, mace, cardamoms, raw' 'Quinoa'\n",
      " 'Brazil nuts, in shell'\n",
      " 'Meat of other domestic camelids, fresh or chilled'\n",
      " 'Meat of other domestic rodents, fresh or chilled' 'Chicory roots'\n",
      " 'Cow peas, dry' 'Cashewapple' 'Ramie, raw or retted' 'Bambara beans, dry'\n",
      " 'Melonseed' 'Skim milk, evaporated'\n",
      " 'Cinnamon and cinnamon-tree flowers, raw' 'Cloves (whole stems), raw'\n",
      " 'Meat of pigeons and other birds n.e.c., fresh, chilled or frozen'\n",
      " 'Tallowtree seeds' 'Vanilla, raw' 'Agave fibres, raw, n.e.c.'\n",
      " 'Abaca, manila hemp, raw'\n",
      " 'Snails, fresh, chilled, frozen, dried, salted or in brine, except sea snails'\n",
      " 'Pyrethrum, dried flowers' 'Kapok fibre, raw' 'Kapok fruit'\n",
      " 'Kapokseed in shell' 'Gooseberries' 'Jojoba seeds' 'Poppy seed'] 200\n"
     ]
    }
   ],
   "source": [
    "print(df_pivot['Item'].unique(), df_pivot['Area'].nunique())"
   ]
  },
  {
   "cell_type": "code",
   "execution_count": 14,
   "id": "637ab7f6",
   "metadata": {},
   "outputs": [
    {
     "name": "stderr",
     "output_type": "stream",
     "text": [
      "C:\\Users\\Chia\\AppData\\Local\\Temp\\ipykernel_18120\\1990997119.py:135: UserWarning: This pattern is interpreted as a regular expression, and has match groups. To actually get the groups, use str.extract.\n",
      "  df_filtered = df_pivot[df_pivot['Item'].str.contains('|'.join(crop_keywords), case=False, na=False)]\n"
     ]
    },
    {
     "name": "stdout",
     "output_type": "stream",
     "text": [
      "(32994, 6)\n"
     ]
    }
   ],
   "source": [
    "crop_keywords=crops = [\n",
    "    \"Almonds\",\n",
    "    \"Anise, coriander, cumin, caraway, fennel, juniper berries\",\n",
    "    \"Apples\",\n",
    "    \"Apricots\",\n",
    "    \"Barley\",\n",
    "    \"Cantaloupes (and other melons)\",\n",
    "    \"Cotton (lint, seed, seed oil)\",\n",
    "    \"Figs\",\n",
    "    \"Grapes\",\n",
    "    \"Linseed\",\n",
    "    \"Maize (corn)\",\n",
    "    \"Millet\",\n",
    "    \"Mustard seed\",\n",
    "    \"Olives\",\n",
    "    \"Onions and shallots (dry and green)\",\n",
    "    \"Oranges\",\n",
    "    \"Berries (various, incl. vaccinium genus)\",\n",
    "    \"Citrus fruits (other)\",\n",
    "    \"Fruits (other)\",\n",
    "    \"Nuts (various, incl. pistachios, cashew, Brazil, etc.)\",\n",
    "    \"Pulses (various incl. lentils, peas, chickpeas, beans)\",\n",
    "    \"Stone fruits (peaches, plums, cherries, etc.)\",\n",
    "    \"Vegetables (various: cabbage, carrots, tomatoes, cucumbers, etc.)\",\n",
    "    \"Pears\",\n",
    "    \"Potatoes\",\n",
    "    \"Rice\",\n",
    "    \"Sesame seed\",\n",
    "    \"Soya beans\",\n",
    "    \"Sugar cane\",\n",
    "    \"Sunflower seed\",\n",
    "    \"Walnuts\",\n",
    "    \"Watermelons\",\n",
    "    \"Wheat\",\n",
    "    \"Beans (dry and green)\",\n",
    "    \"Cabbages\",\n",
    "    \"Carrots and turnips\",\n",
    "    \"Cauliflowers and broccoli\",\n",
    "    \"Cherries\",\n",
    "    \"Chestnuts\",\n",
    "    \"Chillies and peppers (dry and green)\",\n",
    "    \"Cucumbers and gherkins\",\n",
    "    \"Dates\",\n",
    "    \"Eggplants (aubergines)\",\n",
    "    \"Garlic (green)\",\n",
    "    \"Green tea\",\n",
    "    \"Leeks and other alliaceous vegetables\",\n",
    "    \"Lemons and limes\",\n",
    "    \"Lettuce and chicory\",\n",
    "    \"Mushrooms and truffles\",\n",
    "    \"Oats\",\n",
    "    \"Okra\",\n",
    "    \"Peas\",\n",
    "    \"Pumpkins, squash, gourds\",\n",
    "    \"Quinces\",\n",
    "    \"Rye\",\n",
    "    \"Sorghum\",\n",
    "    \"Strawberries\",\n",
    "    \"Tangerines, mandarins, clementines\",\n",
    "    \"Tomatoes\",\n",
    "    \"Artichokes\",\n",
    "    \"Bananas\",\n",
    "    \"Groundnuts (peanuts)\",\n",
    "    \"Locust beans (carobs)\",\n",
    "    \"Tropical fruits (papayas, mangoes, guavas, etc.)\",\n",
    "    \"Pomelos and grapefruits\",\n",
    "    \"Rape or colza seed\",\n",
    "    \"Triticale\",\n",
    "    \"Avocados\",\n",
    "    \"Cassava\",\n",
    "    \"Castor oil seeds\",\n",
    "    \"Cocoa beans\",\n",
    "    \"Coffee (green)\",\n",
    "    \"Kenaf and other textile bast fibres\",\n",
    "    \"Palm kernels\",\n",
    "    \"Pineapples\",\n",
    "    \"Sisal\",\n",
    "    \"Sweet potatoes\",\n",
    "    \"Taro\",\n",
    "    \"Yams\",\n",
    "    \"Asparagus\",\n",
    "    \"Canary seed\",\n",
    "    \"Cereals (n.e.c.)\",\n",
    "    \"Lupins\",\n",
    "    \"Maté leaves\",\n",
    "    \"Fibre crops (other)\",\n",
    "    \"Oil seeds (other)\",\n",
    "    \"Peppermint, spearmint\",\n",
    "    \"Safflower seed\",\n",
    "    \"String beans\",\n",
    "    \"Tea leaves\",\n",
    "    \"Tung nuts\",\n",
    "    \"Hazelnuts\",\n",
    "    \"Blueberries\",\n",
    "    \"Cow peas\",\n",
    "    \"Currants\",\n",
    "    \"Ginger (raw)\",\n",
    "    \"Hempseed\",\n",
    "    \"Kiwi fruit\",\n",
    "    \"Persimmons\",\n",
    "    \"Raspberries\",\n",
    "    \"Mixed grain\",\n",
    "    \"Cranberries\",\n",
    "    \"Coconuts\",\n",
    "    \"Pigeon peas\",\n",
    "    \"Plantains and cooking bananas\",\n",
    "    \"Areca nuts\",\n",
    "    \"Sugar crops (other)\",\n",
    "    \"Buckwheat\",\n",
    "    \"Pome fruits (other)\",\n",
    "    \"Edible roots and tubers (high starch/inulin)\",\n",
    "    \"Yautia\",\n",
    "    \"Fonio\",\n",
    "    \"Karite nuts (sheanuts)\",\n",
    "    \"Kola nuts\",\n",
    "    \"Melonseed\",\n",
    "    \"Pepper (Piper spp.)\",\n",
    "    \"Nutmeg, mace, cardamoms\",\n",
    "    \"Quinoa\",\n",
    "    \"Brazil nuts\",\n",
    "    \"Pyrethrum (dried flowers)\",\n",
    "    \"Chicory roots\",\n",
    "    \"Cashewapple\",\n",
    "    \"Cassava leaves\",\n",
    "    \"Bambara beans\",\n",
    "    \"Cinnamon\",\n",
    "    \"Cloves\",\n",
    "    \"Agave fibres\",\n",
    "    \"Poppy seed\",\n",
    "    \"Kapok fibre, fruit, and seed\",\n",
    "    \"Gooseberries\",\n",
    "    \"Jojoba seeds\"\n",
    "]\n",
    "# Filter the DataFrame to include only rows where 'Item' contains any of the crop keywords\n",
    "df_filtered = df_pivot[df_pivot['Item'].str.contains('|'.join(crop_keywords), case=False, na=False)]\n",
    "# Save the filtered DataFrame to a new CSV file\n",
    "df_filtered.to_csv(\"filtered_crop_dataset.csv\", index=False)\n",
    "print(df_filtered.shape)"
   ]
  },
  {
   "cell_type": "code",
   "execution_count": 15,
   "id": "4a1ecd25",
   "metadata": {},
   "outputs": [
    {
     "data": {
      "text/html": [
       "<div>\n",
       "<style scoped>\n",
       "    .dataframe tbody tr th:only-of-type {\n",
       "        vertical-align: middle;\n",
       "    }\n",
       "\n",
       "    .dataframe tbody tr th {\n",
       "        vertical-align: top;\n",
       "    }\n",
       "\n",
       "    .dataframe thead th {\n",
       "        text-align: right;\n",
       "    }\n",
       "</style>\n",
       "<table border=\"1\" class=\"dataframe\">\n",
       "  <thead>\n",
       "    <tr style=\"text-align: right;\">\n",
       "      <th></th>\n",
       "      <th>Area</th>\n",
       "      <th>Item</th>\n",
       "      <th>Year</th>\n",
       "      <th>Area_Harvested_ha</th>\n",
       "      <th>Production_ton</th>\n",
       "      <th>Yield_kg_ha</th>\n",
       "    </tr>\n",
       "  </thead>\n",
       "  <tbody>\n",
       "    <tr>\n",
       "      <th>8084</th>\n",
       "      <td>Bolivia (Plurinational State of)</td>\n",
       "      <td>Cucumbers and gherkins</td>\n",
       "      <td>2022</td>\n",
       "      <td>547.0</td>\n",
       "      <td>4.821150e+03</td>\n",
       "      <td>8816.700000</td>\n",
       "    </tr>\n",
       "    <tr>\n",
       "      <th>57257</th>\n",
       "      <td>Paraguay</td>\n",
       "      <td>Carrots and turnips</td>\n",
       "      <td>2020</td>\n",
       "      <td>1138.0</td>\n",
       "      <td>1.396000e+04</td>\n",
       "      <td>12267.100000</td>\n",
       "    </tr>\n",
       "    <tr>\n",
       "      <th>53282</th>\n",
       "      <td>Nicaragua</td>\n",
       "      <td>Potatoes</td>\n",
       "      <td>2021</td>\n",
       "      <td>3688.0</td>\n",
       "      <td>7.771031e+04</td>\n",
       "      <td>21073.100000</td>\n",
       "    </tr>\n",
       "    <tr>\n",
       "      <th>59966</th>\n",
       "      <td>Portugal</td>\n",
       "      <td>Tomatoes</td>\n",
       "      <td>2019</td>\n",
       "      <td>15890.0</td>\n",
       "      <td>1.530110e+06</td>\n",
       "      <td>96293.900000</td>\n",
       "    </tr>\n",
       "    <tr>\n",
       "      <th>10335</th>\n",
       "      <td>Bulgaria</td>\n",
       "      <td>Lupins</td>\n",
       "      <td>2023</td>\n",
       "      <td>0.0</td>\n",
       "      <td>9.179694e+05</td>\n",
       "      <td>12705.650799</td>\n",
       "    </tr>\n",
       "  </tbody>\n",
       "</table>\n",
       "</div>"
      ],
      "text/plain": [
       "                                   Area                    Item  Year  \\\n",
       "8084   Bolivia (Plurinational State of)  Cucumbers and gherkins  2022   \n",
       "57257                          Paraguay     Carrots and turnips  2020   \n",
       "53282                         Nicaragua                Potatoes  2021   \n",
       "59966                          Portugal                Tomatoes  2019   \n",
       "10335                          Bulgaria                  Lupins  2023   \n",
       "\n",
       "       Area_Harvested_ha  Production_ton   Yield_kg_ha  \n",
       "8084               547.0    4.821150e+03   8816.700000  \n",
       "57257             1138.0    1.396000e+04  12267.100000  \n",
       "53282             3688.0    7.771031e+04  21073.100000  \n",
       "59966            15890.0    1.530110e+06  96293.900000  \n",
       "10335                0.0    9.179694e+05  12705.650799  "
      ]
     },
     "execution_count": 15,
     "metadata": {},
     "output_type": "execute_result"
    }
   ],
   "source": [
    "df_filtered.sample(5)"
   ]
  },
  {
   "cell_type": "code",
   "execution_count": 16,
   "id": "ab1b59a8",
   "metadata": {},
   "outputs": [
    {
     "data": {
      "image/png": "[encoded data removed]",
      "text/plain": [
       "<Figure size 640x480 with 1 Axes>"
      ]
     },
     "metadata": {},
     "output_type": "display_data"
    }
   ],
   "source": [
    "# Most frequently reported crops\n",
    "df_filtered['Item'].value_counts().head(5).plot(kind='barh', title='Top 5 Cultivated Crops')\n",
    "plt.xlabel('Number of Records')\n",
    "plt.ylabel('Crops')\n",
    "plt.show()"
   ]
  },
  {
   "cell_type": "code",
   "execution_count": 17,
   "id": "f7283a28",
   "metadata": {},
   "outputs": [
    {
     "data": {
      "image/png": "[encoded data removed]",
      "text/plain": [
       "<Figure size 640x480 with 1 Axes>"
      ]
     },
     "metadata": {},
     "output_type": "display_data"
    }
   ],
   "source": [
    "#least frequently reported crops\n",
    "df_filtered['Item'].value_counts().tail(5).plot(kind='barh', title='Least 5 Crops')\n",
    "plt.xlabel('Number of Records')\n",
    "plt.ylabel('Crops')\n",
    "plt.show()"
   ]
  },
  {
   "cell_type": "code",
   "execution_count": 18,
   "id": "a55d2f37",
   "metadata": {},
   "outputs": [
    {
     "data": {
      "text/plain": [
       "<Axes: title={'center': 'Top 10 Countries/Regions'}, ylabel='Area'>"
      ]
     },
     "execution_count": 18,
     "metadata": {},
     "output_type": "execute_result"
    },
    {
     "data": {
      "image/png": "[encoded data removed]",
      "text/plain": [
       "<Figure size 640x480 with 1 Axes>"
      ]
     },
     "metadata": {},
     "output_type": "display_data"
    }
   ],
   "source": [
    "# Most active regions\n",
    "df_filtered['Area'].value_counts().head(5).plot(kind='barh', title='Top 10 Countries/Regions')"
   ]
  },
  {
   "cell_type": "code",
   "execution_count": null,
   "id": "2fb598e6",
   "metadata": {},
   "outputs": [
    {
     "data": {
      "image/png": "[encoded data removed]",
      "text/plain": [
       "<Figure size 1000x500 with 1 Axes>"
      ]
     },
     "metadata": {},
     "output_type": "display_data"
    }
   ],
   "source": [
    "#trend for a specific crop based on area. Production and area harvested for years 2000-2020\n",
    "crop = 'Wheat'\n",
    "area = 'India'\n",
    "df_crop_area = df_filtered[(df_filtered['Item'] == crop) & (df_filtered['Area'] == area)]\n",
    "\n",
    "plt.figure(figsize=(10,5))\n",
    "sns.lineplot(data=df_crop_area, x='Year', y='Production_ton', label='Production (ton)')\n",
    "sns.lineplot(data=df_crop_area, x='Year', y='Area_Harvested_ha', label='Area Harvested (ha)')\n",
    "plt.title(f'Trend for {crop} in {area} for the years 2000-2020, area harvested, and production')\n",
    "plt.legend()\n",
    "plt.grid()\n",
    "plt.show()\n"
   ]
  },
  {
   "cell_type": "code",
   "execution_count": 20,
   "id": "acf9c846",
   "metadata": {},
   "outputs": [
    {
     "data": {
      "image/png": "[encoded data removed]",
      "text/plain": [
       "<Figure size 640x480 with 2 Axes>"
      ]
     },
     "metadata": {},
     "output_type": "display_data"
    }
   ],
   "source": [
    "sns.heatmap(df_pivot[['Area_Harvested_ha', 'Yield_kg_ha', 'Production_ton']].corr(), annot=True)\n",
    "plt.title('Correlation Heatmap')\n",
    "plt.show()"
   ]
  },
  {
   "cell_type": "code",
   "execution_count": 21,
   "id": "8c3c8b92",
   "metadata": {},
   "outputs": [
    {
     "data": {
      "text/html": [
       "<div>\n",
       "<style scoped>\n",
       "    .dataframe tbody tr th:only-of-type {\n",
       "        vertical-align: middle;\n",
       "    }\n",
       "\n",
       "    .dataframe tbody tr th {\n",
       "        vertical-align: top;\n",
       "    }\n",
       "\n",
       "    .dataframe thead th {\n",
       "        text-align: right;\n",
       "    }\n",
       "</style>\n",
       "<table border=\"1\" class=\"dataframe\">\n",
       "  <thead>\n",
       "    <tr style=\"text-align: right;\">\n",
       "      <th></th>\n",
       "      <th>Productivity</th>\n",
       "    </tr>\n",
       "  </thead>\n",
       "  <tbody>\n",
       "    <tr>\n",
       "      <th>count</th>\n",
       "      <td>7.948400e+04</td>\n",
       "    </tr>\n",
       "    <tr>\n",
       "      <th>mean</th>\n",
       "      <td>inf</td>\n",
       "    </tr>\n",
       "    <tr>\n",
       "      <th>std</th>\n",
       "      <td>NaN</td>\n",
       "    </tr>\n",
       "    <tr>\n",
       "      <th>min</th>\n",
       "      <td>0.000000e+00</td>\n",
       "    </tr>\n",
       "    <tr>\n",
       "      <th>25%</th>\n",
       "      <td>6.594916e-02</td>\n",
       "    </tr>\n",
       "    <tr>\n",
       "      <th>50%</th>\n",
       "      <td>1.546905e+00</td>\n",
       "    </tr>\n",
       "    <tr>\n",
       "      <th>75%</th>\n",
       "      <td>8.350000e+00</td>\n",
       "    </tr>\n",
       "    <tr>\n",
       "      <th>max</th>\n",
       "      <td>inf</td>\n",
       "    </tr>\n",
       "  </tbody>\n",
       "</table>\n",
       "</div>"
      ],
      "text/plain": [
       "       Productivity\n",
       "count  7.948400e+04\n",
       "mean            inf\n",
       "std             NaN\n",
       "min    0.000000e+00\n",
       "25%    6.594916e-02\n",
       "50%    1.546905e+00\n",
       "75%    8.350000e+00\n",
       "max             inf"
      ]
     },
     "execution_count": 21,
     "metadata": {},
     "output_type": "execute_result"
    }
   ],
   "source": [
    "# Productivity ratio = production per hectare\n",
    "df_pivot['Productivity'] = df_pivot['Production_ton'] / df_pivot['Area_Harvested_ha']\n",
    "df_pivot[['Productivity']].describe()"
   ]
  },
  {
   "cell_type": "code",
   "execution_count": 22,
   "id": "d2853f75",
   "metadata": {},
   "outputs": [],
   "source": [
    "features = ['Area_Harvested_ha', 'Yield_kg_ha', 'Year']\n",
    "target = 'Production_ton'\n",
    "X = df_filtered[features]\n",
    "y = df_filtered[target]\n",
    "X_train, X_test, y_train, y_test = train_test_split(X, y, test_size=0.2, random_state=42)\n",
    "lr = LinearRegression()\n",
    "lr.fit(X_train, y_train)\n",
    "y_pred_lr = lr.predict(X_test)"
   ]
  },
  {
   "cell_type": "code",
   "execution_count": 23,
   "id": "c2653cc4",
   "metadata": {},
   "outputs": [],
   "source": [
    "def evaluate_model(y_true, y_pred, name='Model'):\n",
    "    print(f\"🔹 {name} Performance:\")\n",
    "    print(\"R² Score:\", r2_score(y_true, y_pred))\n",
    "    print(\"MAE:\", mean_absolute_error(y_true, y_pred))\n",
    "    print(\"MSE:\", mean_squared_error(y_true, y_pred))\n",
    "    print(\"RMSE:\", (mean_squared_error(y_true, y_pred))** 0.5)"
   ]
  },
  {
   "cell_type": "code",
   "execution_count": 24,
   "id": "c8b6a284",
   "metadata": {},
   "outputs": [
    {
     "name": "stdout",
     "output_type": "stream",
     "text": [
      "🔹 Linear Regression Performance:\n",
      "R² Score: 0.20235274975106277\n",
      "MAE: 1190854.6554680287\n",
      "MSE: 126133273670805.6\n",
      "RMSE: 11230907.072485534\n"
     ]
    }
   ],
   "source": [
    "evaluate_model(y_test, y_pred_lr, name='Linear Regression')"
   ]
  },
  {
   "cell_type": "code",
   "execution_count": 25,
   "id": "4731cd43",
   "metadata": {},
   "outputs": [
    {
     "name": "stdout",
     "output_type": "stream",
     "text": [
      "🔹 Random Forest Performance:\n",
      "R² Score: 0.9799935778144394\n",
      "MAE: 146501.63883089693\n",
      "MSE: 3163648497399.6143\n",
      "RMSE: 1778664.8074889248\n"
     ]
    }
   ],
   "source": [
    "rf = RandomForestRegressor(n_estimators=100, random_state=42)\n",
    "rf.fit(X_train, y_train)\n",
    "y_pred_rf = rf.predict(X_test)\n",
    "evaluate_model(y_test, y_pred_rf, name='Random Forest')"
   ]
  },
  {
   "cell_type": "code",
   "execution_count": null,
   "id": "2b1765ce",
   "metadata": {},
   "outputs": [],
   "source": [
    "# Save model\n",
    "joblib.dump(rf, 'random_forest_model.pkl')\n",
    "joblib.dump(lr, 'linear_regression_model.pkl')"
   ]
  }
 ],
 "metadata": {
  "kernelspec": {
   "display_name": "base",
   "language": "python",
   "name": "python3"
  },
  "language_info": {
   "codemirror_mode": {
    "name": "ipython",
    "version": 3
   },
   "file_extension": ".py",
   "mimetype": "text/x-python",
   "name": "python",
   "nbconvert_exporter": "python",
   "pygments_lexer": "ipython3",
   "version": "3.12.7"
  }
 },
 "nbformat": 4,
 "nbformat_minor": 5
}
